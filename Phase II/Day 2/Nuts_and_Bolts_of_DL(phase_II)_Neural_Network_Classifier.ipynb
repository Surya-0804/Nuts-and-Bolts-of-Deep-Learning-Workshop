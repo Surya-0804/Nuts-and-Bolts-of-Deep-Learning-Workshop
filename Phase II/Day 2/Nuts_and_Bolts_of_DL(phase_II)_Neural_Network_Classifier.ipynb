{
  "nbformat": 4,
  "nbformat_minor": 0,
  "metadata": {
    "colab": {
      "provenance": [],
      "authorship_tag": "ABX9TyMkXBvVm514HfDk1OTfMEQ2",
      "include_colab_link": true
    },
    "kernelspec": {
      "name": "python3",
      "display_name": "Python 3"
    },
    "language_info": {
      "name": "python"
    }
  },
  "cells": [
    {
      "cell_type": "markdown",
      "metadata": {
        "id": "view-in-github",
        "colab_type": "text"
      },
      "source": [
        "<a href=\"https://colab.research.google.com/github/Surya-0804/Nuts-and-Bolts-of-Deep-Learning-Workshop/blob/main/Phase%20II/Day%202/Nuts_and_Bolts_of_DL(phase_II)_Neural_Network_Classifier.ipynb\" target=\"_parent\"><img src=\"https://colab.research.google.com/assets/colab-badge.svg\" alt=\"Open In Colab\"/></a>"
      ]
    },
    {
      "cell_type": "code",
      "execution_count": null,
      "metadata": {
        "id": "xcggylwRnppD"
      },
      "outputs": [],
      "source": [
        "import torch\n",
        "import torch.nn as nn\n",
        "import torch.optim as optim\n",
        "import torchvision.transforms as transforms\n",
        "from torchvision.datasets import MNIST\n",
        "from torch.utils.data import DataLoader, random_split\n",
        "import matplotlib.pyplot as plt\n"
      ]
    },
    {
      "cell_type": "code",
      "source": [
        "\n",
        "# Define transformations for the dataset\n",
        "transform = transforms.Compose([transforms.ToTensor(), transforms.Normalize((0.5,), (0.5,))])\n",
        "\n",
        "# Load the MNIST dataset\n",
        "train_dataset = MNIST(root='./data', train=True, download=True, transform=transform)\n",
        "test_dataset = MNIST(root='./data', train=False, download=True, transform=transform)\n",
        "\n",
        "# Split the training dataset into training and validation sets\n",
        "train_size = int(0.1 * len(train_dataset))\n",
        "val_size = len(train_dataset) - train_size\n",
        "train_dataset, val_dataset = random_split(train_dataset, [train_size, val_size])\n",
        "\n",
        "# Create data loaders\n",
        "train_loader = DataLoader(train_dataset, batch_size=64, shuffle=True)\n",
        "val_loader = DataLoader(val_dataset, batch_size=64, shuffle=False)\n",
        "test_loader = DataLoader(test_dataset, batch_size=64, shuffle=False)\n"
      ],
      "metadata": {
        "colab": {
          "base_uri": "https://localhost:8080/"
        },
        "id": "lmS9DduCoSpT",
        "outputId": "103b95fd-0072-47bd-9f11-5e288e090c18"
      },
      "execution_count": null,
      "outputs": [
        {
          "output_type": "stream",
          "name": "stdout",
          "text": [
            "Downloading http://yann.lecun.com/exdb/mnist/train-images-idx3-ubyte.gz\n",
            "Failed to download (trying next):\n",
            "HTTP Error 403: Forbidden\n",
            "\n",
            "Downloading https://ossci-datasets.s3.amazonaws.com/mnist/train-images-idx3-ubyte.gz\n",
            "Downloading https://ossci-datasets.s3.amazonaws.com/mnist/train-images-idx3-ubyte.gz to ./data/MNIST/raw/train-images-idx3-ubyte.gz\n"
          ]
        },
        {
          "output_type": "stream",
          "name": "stderr",
          "text": [
            "100%|██████████| 9912422/9912422 [00:00<00:00, 16109996.06it/s]\n"
          ]
        },
        {
          "output_type": "stream",
          "name": "stdout",
          "text": [
            "Extracting ./data/MNIST/raw/train-images-idx3-ubyte.gz to ./data/MNIST/raw\n",
            "\n",
            "Downloading http://yann.lecun.com/exdb/mnist/train-labels-idx1-ubyte.gz\n",
            "Failed to download (trying next):\n",
            "HTTP Error 403: Forbidden\n",
            "\n",
            "Downloading https://ossci-datasets.s3.amazonaws.com/mnist/train-labels-idx1-ubyte.gz\n",
            "Downloading https://ossci-datasets.s3.amazonaws.com/mnist/train-labels-idx1-ubyte.gz to ./data/MNIST/raw/train-labels-idx1-ubyte.gz\n"
          ]
        },
        {
          "output_type": "stream",
          "name": "stderr",
          "text": [
            "100%|██████████| 28881/28881 [00:00<00:00, 496514.74it/s]\n"
          ]
        },
        {
          "output_type": "stream",
          "name": "stdout",
          "text": [
            "Extracting ./data/MNIST/raw/train-labels-idx1-ubyte.gz to ./data/MNIST/raw\n",
            "\n",
            "Downloading http://yann.lecun.com/exdb/mnist/t10k-images-idx3-ubyte.gz\n",
            "Failed to download (trying next):\n",
            "HTTP Error 403: Forbidden\n",
            "\n",
            "Downloading https://ossci-datasets.s3.amazonaws.com/mnist/t10k-images-idx3-ubyte.gz\n",
            "Downloading https://ossci-datasets.s3.amazonaws.com/mnist/t10k-images-idx3-ubyte.gz to ./data/MNIST/raw/t10k-images-idx3-ubyte.gz\n"
          ]
        },
        {
          "output_type": "stream",
          "name": "stderr",
          "text": [
            "100%|██████████| 1648877/1648877 [00:00<00:00, 4338204.21it/s]\n"
          ]
        },
        {
          "output_type": "stream",
          "name": "stdout",
          "text": [
            "Extracting ./data/MNIST/raw/t10k-images-idx3-ubyte.gz to ./data/MNIST/raw\n",
            "\n",
            "Downloading http://yann.lecun.com/exdb/mnist/t10k-labels-idx1-ubyte.gz\n",
            "Failed to download (trying next):\n",
            "HTTP Error 403: Forbidden\n",
            "\n",
            "Downloading https://ossci-datasets.s3.amazonaws.com/mnist/t10k-labels-idx1-ubyte.gz\n",
            "Downloading https://ossci-datasets.s3.amazonaws.com/mnist/t10k-labels-idx1-ubyte.gz to ./data/MNIST/raw/t10k-labels-idx1-ubyte.gz\n"
          ]
        },
        {
          "output_type": "stream",
          "name": "stderr",
          "text": [
            "100%|██████████| 4542/4542 [00:00<00:00, 4319847.79it/s]\n"
          ]
        },
        {
          "output_type": "stream",
          "name": "stdout",
          "text": [
            "Extracting ./data/MNIST/raw/t10k-labels-idx1-ubyte.gz to ./data/MNIST/raw\n",
            "\n"
          ]
        }
      ]
    },
    {
      "cell_type": "code",
      "source": [
        "\n",
        "# Define the Neural Network Model\n",
        "class NeuralNetwork(nn.Module):\n",
        "    def __init__(self):\n",
        "        super(NeuralNetwork, self).__init__()\n",
        "        self.flatten = nn.Flatten()\n",
        "        self.fc1 = nn.Linear(28 * 28, 256)\n",
        "        self.fc2 = nn.Linear(256, 128)\n",
        "        self.fc3 = nn.Linear(128, 56)\n",
        "        self.fc4 = nn.Linear(56, 10)\n",
        "\n",
        "    def forward(self, x):\n",
        "        x = self.flatten(x)\n",
        "        x = torch.relu(self.fc1(x))\n",
        "        x = torch.relu(self.fc2(x))\n",
        "        x = torch.relu(self.fc3(x))\n",
        "        x = torch.softmax(self.fc4(x), dim=1)\n",
        "        return x\n"
      ],
      "metadata": {
        "id": "XvC3lU9do0dV"
      },
      "execution_count": null,
      "outputs": []
    },
    {
      "cell_type": "code",
      "source": [
        "# Initialize the model, loss function, and optimizer\n",
        "model = NeuralNetwork()\n",
        "criterion = nn.CrossEntropyLoss()\n",
        "optimizer = optim.Adam(model.parameters(), lr=0.001)\n",
        "# Train the Model\n",
        "num_epochs = 50\n",
        "for epoch in range(num_epochs):\n",
        "    model.train()\n",
        "    running_loss = 0.0\n",
        "    for inputs, labels in train_loader:\n",
        "        optimizer.zero_grad()\n",
        "        outputs = model(inputs)\n",
        "        loss = criterion(outputs, labels)\n",
        "        loss.backward()\n",
        "        optimizer.step()\n",
        "        running_loss += loss.item()\n",
        "    print(f\"Epoch {epoch+1}/{num_epochs}, Loss: {running_loss/len(train_loader)}\")\n"
      ],
      "metadata": {
        "colab": {
          "base_uri": "https://localhost:8080/"
        },
        "id": "t8PtZ6vTo7Gc",
        "outputId": "501775df-24e1-4ea4-d889-cba7e590236f"
      },
      "execution_count": null,
      "outputs": [
        {
          "output_type": "stream",
          "name": "stdout",
          "text": [
            "Epoch 1/50, Loss: 1.973043610440924\n",
            "Epoch 2/50, Loss: 1.7202881219539237\n",
            "Epoch 3/50, Loss: 1.6348684113076393\n",
            "Epoch 4/50, Loss: 1.5865505375760667\n",
            "Epoch 5/50, Loss: 1.5684269032579787\n",
            "Epoch 6/50, Loss: 1.564722456830613\n",
            "Epoch 7/50, Loss: 1.5531830749613174\n",
            "Epoch 8/50, Loss: 1.5516694860255464\n",
            "Epoch 9/50, Loss: 1.5367465120680788\n",
            "Epoch 10/50, Loss: 1.5334216115322519\n",
            "Epoch 11/50, Loss: 1.5260047329233049\n",
            "Epoch 12/50, Loss: 1.525919328344629\n",
            "Epoch 13/50, Loss: 1.5226820973639792\n",
            "Epoch 14/50, Loss: 1.5193534341264279\n",
            "Epoch 15/50, Loss: 1.5131641055675262\n",
            "Epoch 16/50, Loss: 1.5115216260260724\n",
            "Epoch 17/50, Loss: 1.5114747032206108\n",
            "Epoch 18/50, Loss: 1.5082038780476184\n",
            "Epoch 19/50, Loss: 1.5093693517624063\n",
            "Epoch 20/50, Loss: 1.504523808651782\n",
            "Epoch 21/50, Loss: 1.5034237377187039\n",
            "Epoch 22/50, Loss: 1.5038757615901055\n",
            "Epoch 23/50, Loss: 1.505189451765507\n",
            "Epoch 24/50, Loss: 1.5053276267457516\n",
            "Epoch 25/50, Loss: 1.4994296418859603\n",
            "Epoch 26/50, Loss: 1.5093049356277952\n",
            "Epoch 27/50, Loss: 1.505419685485515\n",
            "Epoch 28/50, Loss: 1.5025661993534007\n",
            "Epoch 29/50, Loss: 1.4953637351381017\n",
            "Epoch 30/50, Loss: 1.4940751435908866\n",
            "Epoch 31/50, Loss: 1.4984757710010448\n",
            "Epoch 32/50, Loss: 1.4974094870242667\n",
            "Epoch 33/50, Loss: 1.4982203980709643\n",
            "Epoch 34/50, Loss: 1.4973558263575777\n",
            "Epoch 35/50, Loss: 1.490967410676023\n",
            "Epoch 36/50, Loss: 1.4893372401278069\n",
            "Epoch 37/50, Loss: 1.491330087184906\n",
            "Epoch 38/50, Loss: 1.503861185083998\n",
            "Epoch 39/50, Loss: 1.4856062810471717\n",
            "Epoch 40/50, Loss: 1.4874866985260171\n",
            "Epoch 41/50, Loss: 1.4872209404377228\n",
            "Epoch 42/50, Loss: 1.4860710374852444\n",
            "Epoch 43/50, Loss: 1.4846000886977988\n",
            "Epoch 44/50, Loss: 1.4869592646335035\n",
            "Epoch 45/50, Loss: 1.4954564026061525\n",
            "Epoch 46/50, Loss: 1.4828290165738855\n",
            "Epoch 47/50, Loss: 1.4840781637962828\n",
            "Epoch 48/50, Loss: 1.4876584803804438\n",
            "Epoch 49/50, Loss: 1.4841602368557707\n",
            "Epoch 50/50, Loss: 1.4804847265811676\n"
          ]
        }
      ]
    },
    {
      "cell_type": "code",
      "source": [
        "# Make Predictions\n",
        "model.eval()\n",
        "predictions = []\n",
        "with torch.no_grad():\n",
        "    for inputs, _ in train_loader:\n",
        "        outputs = model(inputs)\n",
        "        _, predicted = torch.max(outputs, 1)\n",
        "        predictions.extend(predicted.numpy())\n",
        "\n",
        "# Visualize Results (Optional)\n",
        "for i in range(5):\n",
        "    plt.subplot(1, 5, i + 1)\n",
        "    plt.imshow(test_dataset[i][0].squeeze(), cmap='gray')\n",
        "    plt.title(f'Pred: {predictions[i]}')\n",
        "    plt.axis('off')\n",
        "plt.show()"
      ],
      "metadata": {
        "colab": {
          "base_uri": "https://localhost:8080/",
          "height": 144
        },
        "id": "8zI01d0ppnRE",
        "outputId": "be21f63c-b987-403f-db1b-9c70c9a36c65"
      },
      "execution_count": null,
      "outputs": [
        {
          "output_type": "display_data",
          "data": {
            "text/plain": [
              "<Figure size 640x480 with 5 Axes>"
            ],
            "image/png": "[encoded data removed]"
          },
          "metadata": {}
        }
      ]
    },
    {
      "cell_type": "code",
      "source": [],
      "metadata": {
        "id": "15kyW3RbqNQV"
      },
      "execution_count": null,
      "outputs": []
    }
  ]
}